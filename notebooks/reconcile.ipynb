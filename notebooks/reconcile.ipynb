{
 "cells": [
  {
   "cell_type": "markdown",
   "metadata": {},
   "source": [
    "Notebook that demos how to reconcile \n",
    "- the csv exported from the saxo website\n",
    "- vs TITRE CFD from Marketflow\n",
    "\n",
    "\n",
    "Usage\n",
    "- uncomment one of the input sets in the cell below and run the notebook"
   ]
  },
  {
   "cell_type": "code",
   "execution_count": null,
   "metadata": {},
   "outputs": [],
   "source": [
    "\"\"\"\n",
    "# input set 1: saxo vs mf lebanon\n",
    "fn_mf = \"mfxx_titre_cfd_20180629/mf-lb_titre_cfd_20180629.csv\"\n",
    "fn_saxo = \"saxo21062018.csv\"\n",
    "fn_out = 'margin_recon-saxo-mf-lb-20180630.xlsx'\n",
    "\n",
    "\"\"\"\n",
    "# input set 2: saxo vs mf dubai\n",
    "fn_mf = \"mfxx_titre_cfd_20180629/mf-dxb_titre_cfd_20180629.csv\"\n",
    "fn_saxo = \"saxo21062018.csv\"\n",
    "fn_out = 'margin_recon-saxo-mf-dxb-20180630.xlsx'\n"
   ]
  },
  {
   "cell_type": "code",
   "execution_count": null,
   "metadata": {},
   "outputs": [],
   "source": [
    "import pandas as pd\n",
    "from matplotlib import pyplot as plt"
   ]
  },
  {
   "cell_type": "markdown",
   "metadata": {},
   "source": [
    "## read mf and saxo files"
   ]
  },
  {
   "cell_type": "code",
   "execution_count": null,
   "metadata": {},
   "outputs": [],
   "source": [
    "df_mf = pd.read_csv(fn_mf)\n",
    "df_mf = df_mf[['TIT_COD', 'TIT_NOM', 'TIT_MAR_LN', ]] # 'TIT_MAR_SH', 'TIT_MAR_LN_MC', 'TIT_MAR_SH_MC', 'TIT_STY_COD'\n",
    "df_mf.head()"
   ]
  },
  {
   "cell_type": "code",
   "execution_count": null,
   "metadata": {},
   "outputs": [],
   "source": [
    "df_saxo = pd.read_csv(fn_saxo, encoding='latin1')\n",
    "df_saxo = df_saxo.rename(columns={'Unnamed: 6': 'margin_pct'})\n",
    "df_saxo = df_saxo[['Symbol', 'Description', 'margin_pct']] # , 'margin_desc'\n",
    "df_saxo = df_saxo[pd.notnull(df_saxo['Symbol'])]\n",
    "df_saxo['margin_pct'] = df_saxo['margin_pct'].apply(lambda x: float(x.replace('%','').replace('Automatic Execution', '100.00')))\n",
    "df_saxo.head()"
   ]
  },
  {
   "cell_type": "code",
   "execution_count": null,
   "metadata": {},
   "outputs": [],
   "source": [
    "# set(df_saxo['Margin Requirement']), set(df_saxo['margin_pct'])\n",
    "set(df_saxo['margin_pct'])"
   ]
  },
  {
   "cell_type": "markdown",
   "metadata": {},
   "source": [
    "## preprocess saxo file"
   ]
  },
  {
   "cell_type": "code",
   "execution_count": null,
   "metadata": {},
   "outputs": [],
   "source": [
    "# generate symbol that is common to MF and Saxo\n",
    "df_saxo['symbol_common'] = df_saxo['Symbol'].apply(lambda x: x.split(':')[0])\n",
    "# rename columns to common nomenclature\n",
    "df_saxo = df_saxo.rename(columns={'Description': 'name'})\n",
    "# drop unnecessary column\n",
    "del df_saxo['Symbol']\n",
    "\n",
    "\n",
    "df_saxo.head()"
   ]
  },
  {
   "cell_type": "markdown",
   "metadata": {},
   "source": [
    "## preprocess mflb"
   ]
  },
  {
   "cell_type": "code",
   "execution_count": null,
   "metadata": {},
   "outputs": [],
   "source": [
    "# calculate symbol that is common with saxo\n",
    "df_mf['symbol_common'] = df_mf['TIT_COD'].apply(lambda x: x.split(' ')[1])\n",
    "# rename columns to common nomenclature\n",
    "df_mf = df_mf.rename(columns={'TIT_NOM': 'name', 'TIT_MAR_LN': 'margin_pct'})\n",
    "# drop unnecessary column\n",
    "del df_mf['TIT_COD']\n",
    "\n",
    "df_mf.head()"
   ]
  },
  {
   "cell_type": "markdown",
   "metadata": {},
   "source": [
    "## merge saxo with mflb"
   ]
  },
  {
   "cell_type": "code",
   "execution_count": null,
   "metadata": {},
   "outputs": [],
   "source": [
    "df_merged = df_saxo.merge(df_mf, on='symbol_common', how='outer', suffixes=['_saxo', '_mf'])\n",
    "df_merged.head()"
   ]
  },
  {
   "cell_type": "markdown",
   "metadata": {},
   "source": [
    "## split as \"found\"\n",
    "- found in saxo but not in mf\n",
    "- found in mf but not in saxo\n",
    "- found in both"
   ]
  },
  {
   "cell_type": "code",
   "execution_count": null,
   "metadata": {},
   "outputs": [],
   "source": [
    "df_insaxo_notmf = df_merged[pd.isnull(df_merged['name_mf'])]\n",
    "df_insaxo_notmf.shape"
   ]
  },
  {
   "cell_type": "code",
   "execution_count": null,
   "metadata": {},
   "outputs": [],
   "source": [
    "df_notsaxo_inmf = df_merged[pd.isnull(df_merged['name_saxo'])]\n",
    "df_notsaxo_inmf.shape"
   ]
  },
  {
   "cell_type": "code",
   "execution_count": null,
   "metadata": {},
   "outputs": [],
   "source": [
    "df_both = df_merged[(pd.notnull(df_merged['name_mf'])) & (pd.notnull(df_merged['name_saxo']))].copy()\n",
    "df_both.shape"
   ]
  },
  {
   "cell_type": "code",
   "execution_count": null,
   "metadata": {},
   "outputs": [],
   "source": [
    "df_saxo.shape[0], df_mf.shape[0], df_both.shape[0]"
   ]
  },
  {
   "cell_type": "markdown",
   "metadata": {},
   "source": [
    "## in \"both\", check differences"
   ]
  },
  {
   "cell_type": "code",
   "execution_count": null,
   "metadata": {},
   "outputs": [],
   "source": [
    "df_both.head()"
   ]
  },
  {
   "cell_type": "code",
   "execution_count": null,
   "metadata": {},
   "outputs": [],
   "source": [
    "df_both['mf - saxo*1.25'] = abs(df_both['margin_pct_mf'] - df_both['margin_pct_saxo'] * 1.25)"
   ]
  },
  {
   "cell_type": "code",
   "execution_count": null,
   "metadata": {},
   "outputs": [],
   "source": [
    "df_both['mf - saxo*1.25'].describe()"
   ]
  },
  {
   "cell_type": "code",
   "execution_count": null,
   "metadata": {},
   "outputs": [],
   "source": [
    "df_both.sort_values(['mf - saxo*1.25'], ascending=False).reset_index()['mf - saxo*1.25'].plot()\n",
    "plt.show()"
   ]
  },
  {
   "cell_type": "code",
   "execution_count": null,
   "metadata": {},
   "outputs": [],
   "source": [
    "df_both.sort_values(['mf - saxo*1.25'], ascending=False).tail()"
   ]
  },
  {
   "cell_type": "markdown",
   "metadata": {},
   "source": [
    "## save"
   ]
  },
  {
   "cell_type": "code",
   "execution_count": null,
   "metadata": {},
   "outputs": [],
   "source": [
    "writer = pd.ExcelWriter(fn_out)\n",
    "# df_insaxo_notmflb.to_excel(writer,'Sheet1')\n",
    "df_notsaxo_inmf.to_excel(writer,'in mf but not saxo', index=False)\n",
    "df_both.to_excel(writer,'in both', index=False)\n",
    "writer.save()"
   ]
  }
 ],
 "metadata": {
  "kernelspec": {
   "display_name": "Python 3",
   "language": "python",
   "name": "python3"
  },
  "language_info": {
   "codemirror_mode": {
    "name": "ipython",
    "version": 3
   },
   "file_extension": ".py",
   "mimetype": "text/x-python",
   "name": "python",
   "nbconvert_exporter": "python",
   "pygments_lexer": "ipython3",
   "version": "3.5.2"
  }
 },
 "nbformat": 4,
 "nbformat_minor": 2
}
